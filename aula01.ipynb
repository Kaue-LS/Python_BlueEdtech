{
  "nbformat": 4,
  "nbformat_minor": 0,
  "metadata": {
    "colab": {
      "name": "aula01.ipynb",
      "provenance": [],
      "collapsed_sections": [],
      "authorship_tag": "ABX9TyPQ7h9LSM7uSy622u0y2wSo",
      "include_colab_link": true
    },
    "kernelspec": {
      "name": "python3",
      "display_name": "Python 3"
    },
    "language_info": {
      "name": "python"
    }
  },
  "cells": [
    {
      "cell_type": "markdown",
      "metadata": {
        "id": "view-in-github",
        "colab_type": "text"
      },
      "source": [
        "<a href=\"https://colab.research.google.com/github/Kaue-LS/Python_BlueEdtech/blob/main/aula01.ipynb\" target=\"_parent\"><img src=\"https://colab.research.google.com/assets/colab-badge.svg\" alt=\"Open In Colab\"/></a>"
      ]
    },
    {
      "cell_type": "code",
      "metadata": {
        "id": "QTSGHiqq4JYh"
      },
      "source": [
        "#Aula01 #de python\n"
      ],
      "execution_count": null,
      "outputs": []
    },
    {
      "cell_type": "code",
      "metadata": {
        "id": "OK5HFJBB4PzX"
      },
      "source": [
        "print(\"Hello World\")\n",
        "ola=1;\n",
        "mundo=2;\n",
        "oi=ola+mundo;\n",
        "print(+oi)\n"
      ],
      "execution_count": null,
      "outputs": []
    },
    {
      "cell_type": "markdown",
      "metadata": {
        "id": "N1X_zbJt5WPw"
      },
      "source": [
        "Operadores aritméticos:\n"
      ]
    },
    {
      "cell_type": "code",
      "metadata": {
        "colab": {
          "base_uri": "https://localhost:8080/"
        },
        "id": "w_Q4iShV5aZm",
        "outputId": "ee6118d7-9e79-471f-e32a-a54771e6c77c"
      },
      "source": [
        "n1=2\n",
        "n2=3\n",
        "soma=n1+n2\n",
        "multi=2*3\n",
        "sub=2-3\n",
        "div=2/3\n",
        "divint=n1//n2\n",
        "exp=n1**n2\n",
        "restdiv=n1%n2\n",
        "#o f serve pra quando for colocar uma variavel em uma string\n",
        "print(f\"a soma de {n1} + {n2} é {soma}\")\n",
        "print(f\"a multi de {n1} * {n2} é {multi}\")\n",
        "print(f\"a sub de {n1} - {n2} é {sub}\")\n",
        "print(f\"a div de {n1} / {n2} é {div}\")\n",
        "print(f\"a divint de {n1} // {n2} é {divint}\")\n",
        "print(f\"o exponencial de {n1} ** {n2} é {exp}\")\n",
        "print(f\"o resto da divisão de {n1} % {n2} é {restdiv}\")"
      ],
      "execution_count": null,
      "outputs": [
        {
          "output_type": "stream",
          "text": [
            "a soma de 2 + 3 é 5\n",
            "a multi de 2 * 3 é 6\n",
            "a sub de 2 - 3 é -1\n",
            "a div de 2 / 3 é 0.6666666666666666\n",
            "a divint de 2 // 3 é 0\n",
            "o exponencial de 2 ** 3 é 8\n",
            "o resto da divisão de 2 % 3 é 2\n"
          ],
          "name": "stdout"
        }
      ]
    },
    {
      "cell_type": "markdown",
      "metadata": {
        "id": "GJt7IL5_4L-3"
      },
      "source": [
        ""
      ]
    },
    {
      "cell_type": "markdown",
      "metadata": {
        "id": "ln57En9yEdAm"
      },
      "source": [
        "OPERADORES RELACIONAIS:\n"
      ]
    },
    {
      "cell_type": "code",
      "metadata": {
        "id": "tunLPNl_EhMv"
      },
      "source": [
        "n1=2\n",
        "n2=3\n",
        "\n",
        "print(n1>n2)\n",
        "print(n1<n2)"
      ],
      "execution_count": null,
      "outputs": []
    },
    {
      "cell_type": "code",
      "metadata": {
        "colab": {
          "base_uri": "https://localhost:8080/"
        },
        "id": "JPpvCQuoErwM",
        "outputId": "fc090c61-d5bc-435d-d4f6-9aa0675de355"
      },
      "source": [
        "print(n1>=n2)\n",
        "print(n1<=n2)\n",
        "print(n1!=n2)\n",
        "print(n1==n2)"
      ],
      "execution_count": null,
      "outputs": [
        {
          "output_type": "stream",
          "text": [
            "False\n",
            "True\n",
            "True\n",
            "False\n"
          ],
          "name": "stdout"
        }
      ]
    },
    {
      "cell_type": "code",
      "metadata": {
        "id": "O-nITwkMFGVG"
      },
      "source": [
        ""
      ],
      "execution_count": null,
      "outputs": []
    },
    {
      "cell_type": "markdown",
      "metadata": {
        "id": "cX6vgqgOGaeY"
      },
      "source": [
        "OPERADORES LÓGICOS:"
      ]
    },
    {
      "cell_type": "code",
      "metadata": {
        "colab": {
          "base_uri": "https://localhost:8080/"
        },
        "id": "sIXK0XMxGdZW",
        "outputId": "c83be22d-dc06-43cf-b271-c9ea5005504d"
      },
      "source": [
        "  n1=2\n",
        "  n2=3\n",
        "  n3=4\n",
        "  n4=5\n",
        "\n",
        "  print(n1>n2 or n3<4)"
      ],
      "execution_count": null,
      "outputs": [
        {
          "output_type": "stream",
          "text": [
            "False\n"
          ],
          "name": "stdout"
        }
      ]
    },
    {
      "cell_type": "code",
      "metadata": {
        "colab": {
          "base_uri": "https://localhost:8080/"
        },
        "id": "gBF9CRIeGuA5",
        "outputId": "842e4fc6-1783-418f-c5c5-0a5718e9a70d"
      },
      "source": [
        "print(n1 < n2 and n3 < n4)"
      ],
      "execution_count": null,
      "outputs": [
        {
          "output_type": "stream",
          "text": [
            "True\n"
          ],
          "name": "stdout"
        }
      ]
    },
    {
      "cell_type": "code",
      "metadata": {
        "colab": {
          "base_uri": "https://localhost:8080/"
        },
        "id": "m4iiywDqGziC",
        "outputId": "63a361b0-d4dd-4b91-d164-2ca002b9d115"
      },
      "source": [
        "print(not 3>4 and 5<6)\n",
        "print(not{n1>n2 or n3<n4})"
      ],
      "execution_count": null,
      "outputs": [
        {
          "output_type": "stream",
          "text": [
            "True\n",
            "False\n"
          ],
          "name": "stdout"
        }
      ]
    },
    {
      "cell_type": "code",
      "metadata": {
        "id": "Ww7cAhCIHfv-"
      },
      "source": [
        ""
      ],
      "execution_count": null,
      "outputs": []
    },
    {
      "cell_type": "markdown",
      "metadata": {
        "id": "9s7yQBhqLpaX"
      },
      "source": [
        "VARIAVEIS E SUAS CARACTERISTICAS:\n"
      ]
    },
    {
      "cell_type": "code",
      "metadata": {
        "id": "h1cPSSoPLtlj"
      },
      "source": [
        ""
      ],
      "execution_count": null,
      "outputs": []
    },
    {
      "cell_type": "code",
      "metadata": {
        "id": "fd2JAUGeL_CG"
      },
      "source": [
        ""
      ],
      "execution_count": null,
      "outputs": []
    },
    {
      "cell_type": "markdown",
      "metadata": {
        "id": "u7zAELHnTVZO"
      },
      "source": [
        "INPUT"
      ]
    },
    {
      "cell_type": "code",
      "metadata": {
        "id": "sS0zIR_UTYGv"
      },
      "source": [
        "idade =int( input('Digite a sua idade'))# int converte a string em inteiro ai podemos somar com +10\n",
        "print(type(idade))#se colocar+10 nao ia dar certo, nao podemos somar string com um numero\n",
        "\n",
        "conc= 'tenho '+ str(idade)+' anos'\n",
        "print(conc)\n",
        "\n"
      ],
      "execution_count": null,
      "outputs": []
    },
    {
      "cell_type": "code",
      "metadata": {
        "colab": {
          "base_uri": "https://localhost:8080/"
        },
        "id": "ryD39aPaTnND",
        "outputId": "54f5389a-3ac1-465c-bc12-834a2dfc5da9"
      },
      "source": [
        "X='ola mundo'\n",
        "print(len(X))#quant de letra\n",
        "print(X.capitalize())#a tring com inicial maiuscula\n",
        "print(X.count('o'))#contra a quant da letra pedida\n",
        "print(X.upper())#lower()=minusculo\n",
        "print(X.replace('mundo','BLUE'))#Troca a letra\n",
        "\n",
        "print(X[0:9:1])#sleciona as letras escolhidas. Lembrando, ele começa do!!!!!! 0!!!!!!!\n",
        "#ola[123] [4]Mundo[56789] se adicionar [:2] em seguida, ele procura pulando de acordo com o valor, ele pula de posição\n"
      ],
      "execution_count": null,
      "outputs": [
        {
          "output_type": "stream",
          "text": [
            "9\n",
            "Ola mundo\n",
            "2\n",
            "OLA MUNDO\n",
            "ola BLUE\n",
            "ola mundo\n"
          ],
          "name": "stdout"
        }
      ]
    },
    {
      "cell_type": "code",
      "metadata": {
        "id": "awtILQloru-e"
      },
      "source": [
        ""
      ],
      "execution_count": null,
      "outputs": []
    },
    {
      "cell_type": "code",
      "metadata": {
        "id": "oEg3r3D1v7kE",
        "colab": {
          "base_uri": "https://localhost:8080/"
        },
        "outputId": "0fd8134b-4116-46cf-b146-1ccf41e85cae"
      },
      "source": [
        "#ex1\n",
        "#ex2\n",
        "print(\"Ola mundo!! Esse é o meu primeiro programa\")\n",
        "print(\"Kaue\\Rua Praça\\n232424-234\")#barra precisa ser invertida"
      ],
      "execution_count": null,
      "outputs": [
        {
          "output_type": "stream",
          "text": [
            "Ola mundo!! Esse é o meu primeiro programa\n",
            "Kaue\\Rua Praça\n",
            "232424-234\n"
          ],
          "name": "stdout"
        }
      ]
    },
    {
      "cell_type": "code",
      "metadata": {
        "colab": {
          "base_uri": "https://localhost:8080/"
        },
        "id": "OmmoS_y0wkEY",
        "outputId": "7299b86d-0f43-46e1-e391-6e7034324980"
      },
      "source": [
        "#ex3\n",
        "nome=input(\"Qual é o seu nome?\")\n",
        "print(f\"Olá {nome}! Seja bem vidno ao fantásticc mundo da programação!\")\n",
        "\n",
        "\n",
        "\n",
        "\n"
      ],
      "execution_count": null,
      "outputs": [
        {
          "output_type": "stream",
          "text": [
            "Qual é o seu nome?lucas\n",
            "Olá lucas! Seja bem vidno ao fantásticc mundo da programação!\n"
          ],
          "name": "stdout"
        }
      ]
    },
    {
      "cell_type": "code",
      "metadata": {
        "id": "BMxc9D0Rx5FT"
      },
      "source": [
        "#ex4\n",
        "n1=int(input(\"Digite o primeiro numero:\"))\n",
        "n2=int(input(\"Digite o segundo numero: \"))\n",
        "\n",
        "soma= n1+n2\n",
        "\n",
        "print(f'{n1} + {n2} = {soma}')\n"
      ],
      "execution_count": null,
      "outputs": []
    },
    {
      "cell_type": "code",
      "metadata": {
        "colab": {
          "base_uri": "https://localhost:8080/"
        },
        "id": "cErG7ouqye4y",
        "outputId": "b756b14a-62d1-43f8-8039-c52efeda04e5"
      },
      "source": [
        "#ex5\n",
        "n1= float(input(\"Digite a primeira nota: \"))\n",
        "n2= float(input(\"Digite a segunda nota: \"))\n",
        "n3= float(input(\"Digite a terceira nota: \"))\n",
        "n4= float(input(\"Digite a quarta nota: \"))\n",
        "\n",
        "media = (n1 + n2 + n3 + n4)/4\n",
        "print(f'A sua média total é {media:.2f}')"
      ],
      "execution_count": null,
      "outputs": [
        {
          "output_type": "stream",
          "text": [
            "Digite a primeira nota: 7\n",
            "Digite a segunda nota: 8\n",
            "Digite a terceira nota: 9\n",
            "Digite a quarta nota: 7\n",
            "A sua média total é 7.75\n"
          ],
          "name": "stdout"
        }
      ]
    },
    {
      "cell_type": "code",
      "metadata": {
        "colab": {
          "base_uri": "https://localhost:8080/"
        },
        "id": "-LCyw2oi204E",
        "outputId": "9e5fa44c-0b69-4002-c36c-58a0ae3a19e9"
      },
      "source": [
        "#ex6\n",
        "valor1 = float(input('Digite o primeiro valor:'))\n",
        "valor2 = float(input(\"Digite o segundo valor:\"))\n",
        "\n",
        "print(valor1 > valor2)"
      ],
      "execution_count": null,
      "outputs": [
        {
          "output_type": "stream",
          "text": [
            "Digite o primeiro valor:1\n",
            "Digite o segundo valor:2\n",
            "False\n"
          ],
          "name": "stdout"
        }
      ]
    },
    {
      "cell_type": "code",
      "metadata": {
        "id": "9sW_8hk5w18U"
      },
      "source": [
        ""
      ],
      "execution_count": null,
      "outputs": []
    },
    {
      "cell_type": "code",
      "metadata": {
        "colab": {
          "base_uri": "https://localhost:8080/"
        },
        "id": "rFUOuPzD31VY",
        "outputId": "6413acb4-3f45-47fb-e057-03e075652983"
      },
      "source": [
        "#ex7\n",
        "frase = \"Os limites só existem se você os deixar existir.(goku)\"\n",
        "\n",
        "print(len(frase))\n",
        "print(frase[48:])\n"
      ],
      "execution_count": null,
      "outputs": [
        {
          "output_type": "stream",
          "text": [
            "54\n",
            "(goku)\n"
          ],
          "name": "stdout"
        }
      ]
    },
    {
      "cell_type": "code",
      "metadata": {
        "colab": {
          "base_uri": "https://localhost:8080/"
        },
        "id": "0wG1Hivg4Er8",
        "outputId": "a3f6fbdc-2c1e-4630-ebd8-11afe47f70be"
      },
      "source": [
        "frase = input('Digite uma frase: ').upper()\n",
        "\n",
        "#frase = frase.split()\n",
        "\n",
        "#print(''.join(frase))\n",
        "\n",
        "#ou\n",
        "\n",
        "print(frase.replace(' ', ''))"
      ],
      "execution_count": null,
      "outputs": [
        {
          "output_type": "stream",
          "text": [
            "Digite uma frase: ola nyb=d sdsd\n",
            "OLANYB=DSDSD\n"
          ],
          "name": "stdout"
        }
      ]
    },
    {
      "cell_type": "code",
      "metadata": {
        "id": "pFOHjFap42C8"
      },
      "source": [
        ""
      ],
      "execution_count": null,
      "outputs": []
    }
  ]
}